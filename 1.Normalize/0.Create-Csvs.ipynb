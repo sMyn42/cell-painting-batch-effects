{
 "cells": [
  {
   "cell_type": "code",
   "execution_count": null,
   "metadata": {},
   "outputs": [],
   "source": [
    "library(tidyverse)"
   ]
  },
  {
   "cell_type": "code",
   "execution_count": null,
   "metadata": {},
   "outputs": [],
   "source": [
    "get_db <- function(filepath){\n",
    "\n",
    "    db <- DBI::dbConnect(RSQLite::SQLite(), filepath)\n",
    "    return(db)\n",
    "}"
   ]
  },
  {
   "cell_type": "code",
   "execution_count": null,
   "metadata": {},
   "outputs": [],
   "source": [
    "## 1. Establish a connection to the database file\n",
    "## 2. Load all 4 tables\n",
    "## 3. Merge the metadata (Image) table with the other three\n",
    "## 4. Print csvs that will be easy to use.\n",
    "\n",
    "main_function <- function(filepath, platemappath){\n",
    "\n",
    "    metadata <- readr::read_csv(platemappath)\n",
    "\n",
    "    sc_db = get_db(filepath)\n",
    "\n",
    "    imagedata <- tbl(src = sc_db, \"image\")\n",
    "    cells <- tbl(src = sc_db, \"cells\")\n",
    "    cytoplasm <- tbl(src = sc_db, \"cytoplasm\")\n",
    "    nuclei <- tbl(src = sc_db, \"nuclei\")\n",
    "\n",
    "    platemetadata = imagedata %>% select(contains(\"Metadata\") | contains(\"TableNumber\")) %>% select(-c(Metadata_Series, Metadata_Site, Metadata_ChannelNumber, Metadata_FileLocation, Metadata_Frame, ExecutionTime_02Metadata, ModuleError_02Metadata))\n",
    "\n",
    "    cells_meta = left_join(platemetadata, cells)\n",
    "    nuc_meta = left_join(platemetadata, nuclei)\n",
    "    cyto_meta = left_join(platemetadata, cytoplasm)\n",
    "\n",
    "    write_csv(as.data.frame(cyto_meta), \"Unnormalized_Batch2_Cytoplasm.csv\")\n",
    "    write_csv(as.data.frame(nuc_meta), \"Unnormalized_Batch2_Nuclei.csv\")\n",
    "    write_csv(as.data.frame(cells_meta), \"Unnormalized_Batch2_Cells.csv\")\n",
    "    \n",
    "}\n"
   ]
  },
  {
   "cell_type": "code",
   "execution_count": null,
   "metadata": {},
   "outputs": [],
   "source": [
    "main_function(\"/home/ubuntu/bucket/projects/2018_05_30_ResistanceMechanisms_Kapoor/workspace/backend/2019_03_20_Batch2/207106_exposure320/207106_exposure320.sqlite\", \"/home/ubuntu/bucket/projects/2018_05_30_ResistanceMechanisms_Kapoor/workspace/metadata/2019_03_20_Batch2/barcode_platemap.csv\")"
   ]
  },
  {
   "cell_type": "code",
   "execution_count": null,
   "metadata": {},
   "outputs": [],
   "source": []
  },
  {
   "cell_type": "code",
   "execution_count": null,
   "metadata": {},
   "outputs": [],
   "source": []
  },
  {
   "cell_type": "code",
   "execution_count": null,
   "metadata": {},
   "outputs": [],
   "source": []
  }
 ],
 "metadata": {
  "kernelspec": {
   "display_name": "R",
   "language": "R",
   "name": "ir"
  },
  "language_info": {
   "codemirror_mode": "r",
   "file_extension": ".r",
   "mimetype": "text/x-r-source",
   "name": "R",
   "pygments_lexer": "r",
   "version": "3.5.1"
  }
 },
 "nbformat": 4,
 "nbformat_minor": 4
}
